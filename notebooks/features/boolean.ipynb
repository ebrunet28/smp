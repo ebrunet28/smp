{
 "cells": [
  {
   "cell_type": "markdown",
   "source": [
    "# Boolean"
   ],
   "metadata": {
    "collapsed": false
   }
  },
  {
   "cell_type": "code",
   "source": [
    "import matplotlib.pyplot as plt\n",
    "import numpy as np\n",
    "from sklearn.impute import MissingIndicator\n",
    "\n",
    "%matplotlib inline\n",
    "\n",
    "from smp.features.features import Loader\n",
    "\n",
    "loader = Loader()"
   ],
   "metadata": {
    "collapsed": false,
    "pycharm": {
     "name": "#%%\n"
    }
   },
   "execution_count": 30,
   "outputs": []
  },
  {
   "cell_type": "markdown",
   "source": [
    "## Personal URL"
   ],
   "metadata": {
    "collapsed": false,
    "pycharm": {
     "name": "#%% md\n"
    }
   }
  },
  {
   "cell_type": "code",
   "execution_count": 31,
   "outputs": [
    {
     "name": "stdout",
     "output_type": "stream",
     "text": [
      "Id\n",
      "AL85S14OMDPF01I9                            NaN\n",
      "HI11QOPD7BLJTO7Q                            NaN\n",
      "JS49LP5P72RI1OQB                            NaN\n",
      "S0GDSC09MACCLBJP    https://blob/e/g9pex_vS.com\n",
      "CRSEMK4QER6LDJSA    https://blob/v/Szeo.h4/.com\n",
      "0FEKBQ59AF1LQKJP    https://blob/132hwfh8ee.com\n",
      "G47D4QN50M6JKLOO                            NaN\n",
      "0TD6D9901FARMO78    https://blob/s.n48sttty.com\n",
      "ORJN6I5G6NA6QD0Q                            NaN\n",
      "5JIAFD6132MNPAL9                            NaN\n",
      "JJJOLPK58H9I67ER                            NaN\n",
      "2S83AQ0TGH8Q8KNL    https://blob/E:ettbUdo2.com\n",
      "OTBR16M0ASHA136E    https://blob/fcf3tot/fi.com\n",
      "0C1JE3T6AMSI0Q0S                            NaN\n",
      "PS3NFITO4RQGQL9R     https://blob/ohqcq//xs.com\n",
      "LAEAHANFKHLRGF65                            NaN\n",
      "GCP2NNJ1PIGCA36A                            NaN\n",
      "DPL84B2Q7C7CPM5O    https://blob/lp/ulyczpo.com\n",
      "10BF1GQ7IRRJE29K                            NaN\n",
      "ORQMDHLH6NS0G0M0    https://blob/QOt.a8w/pO.com\n",
      "Name: Personal URL, dtype: object\n"
     ]
    }
   ],
   "source": [
    "variable = \"Personal URL\"\n",
    "\n",
    "print(loader.train[variable].head(20))"
   ],
   "metadata": {
    "collapsed": false,
    "pycharm": {
     "name": "#%%\n"
    }
   }
  },
  {
   "cell_type": "code",
   "execution_count": 32,
   "outputs": [
    {
     "data": {
      "text/plain": "<Figure size 432x288 with 1 Axes>",
      "image/png": "[encoded data removed]"
     },
     "metadata": {
      "needs_background": "light"
     },
     "output_type": "display_data"
    }
   ],
   "source": [
    "X = MissingIndicator().fit_transform(X=loader.train[variable].values.reshape(-1, 1))\n",
    "y = np.log(1 + loader.train[\"Num of Profile Likes\"])\n",
    "\n",
    "_ = plt.hist(y[X.reshape(-1)], bins=100, alpha=0.5, density=True, label=\"missing\")\n",
    "_ = plt.hist(y[~X.reshape(-1)], bins=100, alpha=0.5, density=True, label=\"not missing\")\n",
    "\n",
    "_ = plt.title(variable)\n",
    "_ = plt.xlabel(\"Num of Profile Likes\")\n",
    "_ = plt.ylabel(\"Frequency\")\n",
    "_ = plt.legend()"
   ],
   "metadata": {
    "collapsed": false,
    "pycharm": {
     "name": "#%%\n"
    }
   }
  },
  {
   "cell_type": "markdown",
   "source": [
    "## Is Profile View Size Customized?"
   ],
   "metadata": {
    "collapsed": false,
    "pycharm": {
     "name": "#%% md\n"
    }
   }
  },
  {
   "cell_type": "code",
   "execution_count": 33,
   "outputs": [
    {
     "name": "stdout",
     "output_type": "stream",
     "text": [
      "Id\n",
      "AL85S14OMDPF01I9    False\n",
      "HI11QOPD7BLJTO7Q    False\n",
      "JS49LP5P72RI1OQB    False\n",
      "S0GDSC09MACCLBJP    False\n",
      "CRSEMK4QER6LDJSA    False\n",
      "0FEKBQ59AF1LQKJP    False\n",
      "G47D4QN50M6JKLOO    False\n",
      "0TD6D9901FARMO78    False\n",
      "ORJN6I5G6NA6QD0Q    False\n",
      "5JIAFD6132MNPAL9     True\n",
      "JJJOLPK58H9I67ER    False\n",
      "2S83AQ0TGH8Q8KNL    False\n",
      "OTBR16M0ASHA136E    False\n",
      "0C1JE3T6AMSI0Q0S    False\n",
      "PS3NFITO4RQGQL9R    False\n",
      "LAEAHANFKHLRGF65     True\n",
      "GCP2NNJ1PIGCA36A    False\n",
      "DPL84B2Q7C7CPM5O    False\n",
      "10BF1GQ7IRRJE29K    False\n",
      "ORQMDHLH6NS0G0M0    False\n",
      "Name: Is Profile View Size Customized?, dtype: bool\n"
     ]
    }
   ],
   "source": [
    "variable = \"Is Profile View Size Customized?\"\n",
    "\n",
    "print(loader.train[variable].head(20))"
   ],
   "metadata": {
    "collapsed": false,
    "pycharm": {
     "name": "#%%\n"
    }
   }
  },
  {
   "cell_type": "code",
   "execution_count": 34,
   "outputs": [
    {
     "data": {
      "text/plain": "<Figure size 432x288 with 1 Axes>",
      "image/png": "[encoded data removed]"
     },
     "metadata": {
      "needs_background": "light"
     },
     "output_type": "display_data"
    }
   ],
   "source": [
    "X = loader.train[variable].values\n",
    "y = np.log(1 + loader.train['Num of Profile Likes'])\n",
    "\n",
    "_ = plt.hist(y[X], bins=100, alpha=0.5, density=True, label=\"true\")\n",
    "_ = plt.hist(y[~X], bins=100, alpha=0.5, density=True, label=\"false\")\n",
    "\n",
    "_ = plt.title(variable)\n",
    "_ = plt.xlabel('Num of Profile Likes')\n",
    "_ = plt.ylabel(variable)\n",
    "_ = plt.legend()"
   ],
   "metadata": {
    "collapsed": false,
    "pycharm": {
     "name": "#%%\n"
    }
   }
  },
  {
   "cell_type": "markdown",
   "source": [
    "## Location"
   ],
   "metadata": {
    "collapsed": false
   }
  },
  {
   "cell_type": "code",
   "execution_count": 35,
   "outputs": [
    {
     "name": "stdout",
     "output_type": "stream",
     "text": [
      "Id\n",
      "AL85S14OMDPF01I9                              NaN\n",
      "HI11QOPD7BLJTO7Q                           mumbai\n",
      "JS49LP5P72RI1OQB     NYC + 70 Countries Worldwide\n",
      "S0GDSC09MACCLBJP                 Indianapolis, In\n",
      "CRSEMK4QER6LDJSA       777 Beach Blvd. Biloxi, MS\n",
      "0FEKBQ59AF1LQKJP                              NaN\n",
      "G47D4QN50M6JKLOO                  Bronx, New York\n",
      "0TD6D9901FARMO78                           Brasil\n",
      "ORJN6I5G6NA6QD0Q                           LONDON\n",
      "5JIAFD6132MNPAL9                              NaN\n",
      "JJJOLPK58H9I67ER          Los Angeles, California\n",
      "2S83AQ0TGH8Q8KNL    Ülker Spor ve Etkinlik Salonu\n",
      "OTBR16M0ASHA136E      Dubai, United Arab Emirates\n",
      "0C1JE3T6AMSI0Q0S                Winston-Salem, NC\n",
      "PS3NFITO4RQGQL9R                              NaN\n",
      "LAEAHANFKHLRGF65                 Torino, Piemonte\n",
      "GCP2NNJ1PIGCA36A          Beautiful Nashville, TN\n",
      "DPL84B2Q7C7CPM5O                              NaN\n",
      "10BF1GQ7IRRJE29K                              DBU\n",
      "ORQMDHLH6NS0G0M0                              NaN\n",
      "Name: Location, dtype: object\n"
     ]
    }
   ],
   "source": [
    "variable = \"Location\"\n",
    "\n",
    "print(loader.train[variable].head(20))"
   ],
   "metadata": {
    "collapsed": false,
    "pycharm": {
     "name": "#%%\n"
    }
   }
  },
  {
   "cell_type": "code",
   "execution_count": 36,
   "outputs": [
    {
     "data": {
      "text/plain": "<Figure size 432x288 with 1 Axes>",
      "image/png": "[encoded data removed]"
     },
     "metadata": {
      "needs_background": "light"
     },
     "output_type": "display_data"
    }
   ],
   "source": [
    "X = MissingIndicator().fit_transform(X=loader.train[variable].values.reshape(-1, 1))\n",
    "y = np.log(1 + loader.train['Num of Profile Likes'])\n",
    "\n",
    "_ = plt.hist(y[X.reshape(-1)], bins=100, alpha=0.5, density=True, label=\"missing\")\n",
    "_ = plt.hist(y[~X.reshape(-1)], bins=100, alpha=0.5, density=True, label=\"not missing\")\n",
    "\n",
    "_ = plt.title(variable)\n",
    "_ = plt.xlabel('Num of Profile Likes')\n",
    "_ = plt.ylabel('Frequency')\n",
    "_ = plt.legend()"
   ],
   "metadata": {
    "collapsed": false,
    "pycharm": {
     "name": "#%%\n"
    }
   }
  }
 ],
 "metadata": {
  "kernelspec": {
   "name": "pycharm-1259d0fb",
   "language": "python",
   "display_name": "PyCharm (smp)"
  },
  "language_info": {
   "codemirror_mode": {
    "name": "ipython",
    "version": 3
   },
   "file_extension": ".py",
   "mimetype": "text/x-python",
   "name": "python",
   "nbconvert_exporter": "python",
   "pygments_lexer": "ipython3",
   "version": "3.7.5"
  }
 },
 "nbformat": 4,
 "nbformat_minor": 4
}