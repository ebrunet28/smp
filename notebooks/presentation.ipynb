{
 "cells": [
  {
   "cell_type": "markdown",
   "metadata": {},
   "source": [
    "# Social Media Prediction - 30 seconds\n",
    "\n",
    "- team name: aaaaaaaaaaa\n",
    "- team members\n",
    "    - Marc-Antoine Bélanger\n",
    "    - Eric Brunet\n",
    "    - Jean-Philippe Gagnon-Fleury\n",
    "- Private leaderboard\n",
    "    - score: 1.60762\n",
    "    - model: voting regressor"
   ]
  },
  {
   "cell_type": "markdown",
   "metadata": {},
   "source": [
    "# Project - 30 seconds\n",
    "\n",
    "https://github.com/ebrunet28/smp\n",
    "\n",
    "- 3 collaborators\n",
    "- 21 branches\n",
    "- 124 commits\n",
    "- 30 pull requests\n",
    "- 82 builds\n",
    "- based on [whisk](https://github.com/whisk-ml/whisk) framework\n"
   ]
  },
  {
   "cell_type": "markdown",
   "metadata": {},
   "source": [
    "# Data Cleaning - 30 seconds"
   ]
  },
  {
   "cell_type": "code",
   "execution_count": 3,
   "metadata": {
    "pycharm": {
     "name": "#%%\n"
    }
   },
   "outputs": [
    {
     "name": "stdout",
     "output_type": "stream",
     "text": [
      "<class 'pandas.core.frame.DataFrame'>\n",
      "Index: 7500 entries, AL85S14OMDPF01I9 to LLKNQ56IFCSSCOT6\n",
      "Data columns (total 23 columns):\n",
      " #   Column                                       Non-Null Count  Dtype  \n",
      "---  ------                                       --------------  -----  \n",
      " 0   User Name                                    7500 non-null   object \n",
      " 1   Personal URL                                 3256 non-null   object \n",
      " 2   Profile Cover Image Status                   7410 non-null   object \n",
      " 3   Profile Verification Status                  7500 non-null   object \n",
      " 4   Profile Text Color                           7434 non-null   object \n",
      " 5   Profile Page Color                           7422 non-null   object \n",
      " 6   Profile Theme Color                          7428 non-null   object \n",
      " 7   Is Profile View Size Customized?             7500 non-null   bool   \n",
      " 8   UTC Offset                                   7014 non-null   float64\n",
      " 9   Location                                     6039 non-null   object \n",
      " 10  Location Public Visibility                   7500 non-null   object \n",
      " 11  User Language                                7500 non-null   object \n",
      " 12  Profile Creation Timestamp                   7500 non-null   object \n",
      " 13  User Time Zone                               7014 non-null   object \n",
      " 14  Num of Followers                             7500 non-null   int64  \n",
      " 15  Num of People Following                      7500 non-null   int64  \n",
      " 16  Num of Status Updates                        7500 non-null   int64  \n",
      " 17  Num of Direct Messages                       7500 non-null   int64  \n",
      " 18  Profile Category                             7500 non-null   object \n",
      " 19  Avg Daily Profile Visit Duration in seconds  7423 non-null   float64\n",
      " 20  Avg Daily Profile Clicks                     7424 non-null   float64\n",
      " 21  Profile Image                                7500 non-null   object \n",
      " 22  Num of Profile Likes                         7500 non-null   int64  \n",
      "dtypes: bool(1), float64(3), int64(5), object(14)\n",
      "memory usage: 1.3+ MB\n",
      "None\n"
     ]
    }
   ],
   "source": [
    "from smp.features.features import Loader\n",
    "loader = Loader()\n",
    "print(loader.train.info())"
   ]
  },
  {
   "cell_type": "code",
   "execution_count": 4,
   "metadata": {
    "pycharm": {
     "name": "#%%\n"
    }
   },
   "outputs": [
    {
     "name": "stdout",
     "output_type": "stream",
     "text": [
      "User Name                                                         Mf9vfld4Vfe\n",
      "Personal URL                                                              NaN\n",
      "Profile Cover Image Status                                                Set\n",
      "Profile Verification Status                                          Verified\n",
      "Profile Text Color                                                     db1a2c\n",
      "Profile Page Color                                                     eaf0f2\n",
      "Profile Theme Color                                                    e70409\n",
      "Is Profile View Size Customized?                                        False\n",
      "UTC Offset                                                              39600\n",
      "Location                                                                  NaN\n",
      "Location Public Visibility                                            Enabled\n",
      "User Language                                                              en\n",
      "Profile Creation Timestamp                     Thu Nov 27 05:24:59 +0000 2008\n",
      "User Time Zone                                                         Sydney\n",
      "Num of Followers                                                        95763\n",
      "Num of People Following                                                  4289\n",
      "Num of Status Updates                                                   30809\n",
      "Num of Direct Messages                                                    873\n",
      "Profile Category                                                     business\n",
      "Avg Daily Profile Visit Duration in seconds                            14.792\n",
      "Avg Daily Profile Clicks                                               1.5761\n",
      "Profile Image                                            AL85S14OMDPF01I9.png\n",
      "Num of Profile Likes                                                     2815\n",
      "Name: AL85S14OMDPF01I9, dtype: object\n"
     ]
    }
   ],
   "source": [
    "print(loader.train.iloc[0])"
   ]
  },
  {
   "cell_type": "markdown",
   "metadata": {
    "pycharm": {
     "name": "#%% md\n"
    }
   },
   "source": [
    "- Lower case\n",
    "- Simple imputers\n",
    "    - Most frequent\n",
    "    - Mean\n",
    "- Outliers: Not meaningful"
   ]
  },
  {
   "cell_type": "markdown",
   "metadata": {},
   "source": [
    "# Data Analysis - 30 seconds"
   ]
  },
  {
   "cell_type": "code",
   "execution_count": 21,
   "metadata": {
    "pycharm": {
     "name": "#%%\n"
    }
   },
   "outputs": [
    {
     "data": {
      "image/png": "[encoded data removed]",
      "text/plain": [
       "<Figure size 432x288 with 2 Axes>"
      ]
     },
     "metadata": {
      "needs_background": "light"
     },
     "output_type": "display_data"
    }
   ],
   "source": [
    "import numpy as np\n",
    "from utils import *\n",
    "\n",
    "fig, ax = plt.subplots(nrows=2, ncols=1, )\n",
    "_ = ax[0].hist(loader.train[\"Num of Profile Likes\"], bins=50)\n",
    "_ = ax[1].hist(np.log(1 + loader.train[\"Num of Profile Likes\"]), bins=50)\n",
    "ax[0].set_xlabel(\"Num of Profile Likes\")\n",
    "ax[1].set_xlabel(\"Num of Profile Likes (log(1+x))\")\n",
    "plt.tight_layout()\n",
    "# y = np.log(1 + loader.train[\"Num of Profile Likes\"])\n",
    "# plot_target(y)"
   ]
  },
  {
   "cell_type": "code",
   "execution_count": 4,
   "metadata": {
    "pycharm": {
     "name": "#%%\n"
    }
   },
   "outputs": [
    {
     "name": "stdout",
     "output_type": "stream",
     "text": [
      "[Pipeline] .......... (step 1 of 2) Processing ToVector, total=   0.0s\n",
      "[Pipeline] .. (step 2 of 2) Processing MissingIndicator, total=   0.0s\n"
     ]
    },
    {
     "data": {
      "image/png": "[encoded data removed]",
      "text/plain": [
       "<Figure size 432x288 with 1 Axes>"
      ]
     },
     "metadata": {
      "needs_background": "light"
     },
     "output_type": "display_data"
    }
   ],
   "source": [
    "from smp.features.boolean import PersonalURL\n",
    "\n",
    "feature = PersonalURL()\n",
    "X = feature.fit_transform(X=loader.train)\n",
    "plot_feature(feature, X, y)"
   ]
  },
  {
   "cell_type": "code",
   "execution_count": 7,
   "metadata": {
    "pycharm": {
     "name": "#%%\n"
    }
   },
   "outputs": [
    {
     "name": "stdout",
     "output_type": "stream",
     "text": [
      "[Pipeline] .......... (step 1 of 4) Processing ToVector, total=   0.0s\n",
      "[Pipeline] .... (step 2 of 4) Processing Convert to int, total=   0.0s\n",
      "[Pipeline]  (step 3 of 4) Processing Convert to log(1+x), total=   0.0s\n",
      "[Pipeline] ........ (step 4 of 4) Processing Std Scaler, total=   0.0s\n"
     ]
    },
    {
     "data": {
      "image/png": "[encoded data removed]",
      "text/plain": [
       "<Figure size 432x288 with 1 Axes>"
      ]
     },
     "metadata": {
      "needs_background": "light"
     },
     "output_type": "display_data"
    }
   ],
   "source": [
    "from smp.features.discrete import NumOfStatusUpdates\n",
    "\n",
    "feature = NumOfStatusUpdates()\n",
    "X = feature.fit_transform(X=loader.train)\n",
    "plot_feature(feature, X)"
   ]
  },
  {
   "cell_type": "code",
   "execution_count": 8,
   "metadata": {
    "pycharm": {
     "name": "#%%\n"
    }
   },
   "outputs": [
    {
     "data": {
      "image/png": "[encoded data removed]",
      "text/plain": [
       "<Figure size 432x288 with 1 Axes>"
      ]
     },
     "metadata": {
      "needs_background": "light"
     },
     "output_type": "display_data"
    }
   ],
   "source": [
    "plot_feature(feature, X, y)"
   ]
  },
  {
   "cell_type": "code",
   "execution_count": 8,
   "metadata": {},
   "outputs": [
    {
     "name": "stdout",
     "output_type": "stream",
     "text": [
      "[Pipeline] .......... (step 1 of 2) Processing ToVector, total=   0.0s\n",
      "[Pipeline] ........ (step 2 of 2) Processing Std Scaler, total=   0.0s\n"
     ]
    },
    {
     "data": {
      "image/png": "[encoded data removed]",
      "text/plain": [
       "<Figure size 432x288 with 1 Axes>"
      ]
     },
     "metadata": {
      "needs_background": "light"
     },
     "output_type": "display_data"
    }
   ],
   "source": [
    "from smp.features.discrete import CustomFeature\n",
    "\n",
    "feature = CustomFeature()\n",
    "X = feature.fit_transform(X=loader.train)\n",
    "plot_feature(feature, X)"
   ]
  },
  {
   "cell_type": "code",
   "execution_count": 9,
   "metadata": {},
   "outputs": [
    {
     "data": {
      "image/png": "[encoded data removed]",
      "text/plain": [
       "<Figure size 432x288 with 1 Axes>"
      ]
     },
     "metadata": {
      "needs_background": "light"
     },
     "output_type": "display_data"
    }
   ],
   "source": [
    "plot_feature(feature, X, y)"
   ]
  },
  {
   "cell_type": "markdown",
   "metadata": {},
   "source": [
    "# Summary of Feature Engineering \n",
    "\n",
    "- 21 initial features\n",
    "    - Dropped User Name\n",
    "\n",
    "<br>\n",
    "\n",
    "- Boolean\n",
    "    - No transform\n",
    "    - Missing indicator\n",
    "- Categorical\n",
    "    - Binary encoder\n",
    "    - One-hot encoder\n",
    "- Discrete\n",
    "    - Log transform\n",
    "    - Standard scaler\n",
    "- Float\n",
    "    - Log transform\n",
    "    - Standard scaler\n",
    "- Elapsed Time\n",
    "    - Convert timestamp to timedelta\n",
    "    - Log transform\n",
    "    - Standard scaler\n",
    "- HEX\n",
    "    - HEX to RGB vs Most Frequency (default profile) \n",
    "    \n",
    "- Image\n",
    "    - 32 x 32\n",
    "    - Crop and flatten\n",
    "    - PCA\n",
    "    - 10 components\n",
    "\n",
    "\n",
    "<br>\n",
    "\n",
    "| Feature                          | Boolean | Categorical | Discrete | Elapsed Time | Float   | Image   | HEX     |\n",
    "|----------------------------------|:-------:|:-----------:|:--------:|:------------:|:-------:|:-------:|:-------:|\n",
    "| Personal URL                     | X       | <i></i>     | <i></i>  | <i></i>      | <i></i> | <i></i> | <i></i> |\n",
    "| Profile Cover Image Status       | <i></i> |      X      | <i></i>  | <i></i>      | <i></i> | <i></i> | <i></i> |\n",
    "| Profile Verification Status      | <i></i> |      X      | <i></i>  | <i></i>      | <i></i> | <i></i> | <i></i> |\n",
    "| Profile Text Color               | <i></i> | <i></i>     | <i></i>  | <i></i>      | <i></i> | <i></i> | X       |\n",
    "| Profile Page Color               | <i></i> | <i></i>     | <i></i>  | <i></i>      | <i></i> | <i></i> | X       |\n",
    "| Profile Theme Color              | <i></i> | <i></i>     | <i></i>  | <i></i>      | <i></i> | <i></i> | X       |\n",
    "| Is Profile View Size Customized? | X       | <i></i>     | <i></i>  | <i></i>      | <i></i> | <i></i> | <i></i> |\n",
    "| UTC Offset                       | <i></i> | <i></i>     | X        | <i></i>      | <i></i> | <i></i> | <i></i> |\n",
    "| Location                         | X       | <i></i>     | <i></i>  | <i></i>      | <i></i> | <i></i> | <i></i> |\n",
    "| Location Public Visibility       | <i></i> |      X      | <i></i>  | <i></i>      | <i></i> | <i></i> | <i></i> |\n",
    "| User Language                    | <i></i> |      X      | <i></i>  | <i></i>      | <i></i> | <i></i> | <i></i> |\n",
    "| Profile Creation Timestamp       | <i></i> | <i></i>     | <i></i>  | X            | <i></i> | <i></i> | <i></i> |\n",
    "| User Time Zone                   | <i></i> |      X      | <i></i>  | <i></i>      | <i></i> | <i></i> | <i></i> |\n",
    "| Num of Followers                 | <i></i> | <i></i>     | X        | <i></i>      | <i></i> | <i></i> | <i></i> |\n",
    "| Num of People Following          | <i></i> | <i></i>     | X        | <i></i>      | <i></i> | <i></i> | <i></i> |\n",
    "| Num of Status Updates            | <i></i> | <i></i>     | X        | <i></i>      | <i></i> | <i></i> | <i></i> |\n",
    "| Num of Direct Messages           | <i></i> | <i></i>     | X        | <i></i>      | <i></i> | <i></i> | <i></i> |\n",
    "| Profile Category                 | <i></i> |      X      | <i></i>  | <i></i>      | <i></i> | <i></i> | <i></i> |\n",
    "| Avg Daily Profile Visit Duration | <i></i> | <i></i>     | <i></i>  | <i></i>      | X       | <i></i> | <i></i> |\n",
    "| Avg Daily Profile Clicks         | <i></i> | <i></i>     | <i></i>  | <i></i>      | X       | <i></i> | <i></i> |\n",
    "| Profile Image                    | <i></i> | <i></i>     | <i></i>  | <i></i>      | <i></i> | X       | <i></i> |\n",
    "\n",
    "<br>\n"
   ]
  },
  {
   "cell_type": "markdown",
   "metadata": {},
   "source": [
    "# Model Approach - 2 minute 30 seconds\n",
    "\n",
    "- feature engineering pipeline\n",
    "\n",
    "```yaml\n",
    "datasets:\n",
    "  default: &dataset_wo_img\n",
    "    cls: smp.features.features.Dataset\n",
    "    parameters:\n",
    "      transformer_list:\n",
    "        - *feat_PersonalUrl_default\n",
    "        - *feat_ProfileCoverImageStatus_default\n",
    "        - *feat_ProfileVerificationStatus_default\n",
    "        - *feat_IsProfileViewSizeCustomized_default\n",
    "        - *feat_ProfileTextColor_default\n",
    "        - *feat_ProfilePageColor_default\n",
    "        - *feat_ProfileThemeColor_default\n",
    "        - *feat_UtcOffset_default\n",
    "        - *feat_Location_default\n",
    "        - *feat_LocationPublicVisibility_default\n",
    "        - *feat_UserLanguage_default\n",
    "        - *feat_ProfileCreationTimestamp_default\n",
    "        - *feat_UserTimeZone_default\n",
    "        - *feat_NumOfFollowers_default\n",
    "        - *feat_NumOfPeopleFollowing_default\n",
    "        - *feat_NumOfStatusUpdates_default\n",
    "        - *feat_NumOfDirectMessages_default\n",
    "        - *feat_ProfileCategory_default\n",
    "        - *feat_AvgDailyProfileVisitDuration_default\n",
    "        - *feat_AvgDailyProfileClicks_default\n",
    "        #- *feat_ProfileImage_default  # Perf is better without the image feature PCA\n",
    "        - *feat_CustomFeature\n",
    "        \n",
    "```\n",
    "\n",
    "- model selection pipeline\n",
    "\n",
    "```yaml\n",
    "trials:\n",
    "  - pipeline: *pipe_wo_img\n",
    "    parameters:\n",
    "      estimator:\n",
    "        cls: sklearn.linear_model.LinearRegression\n",
    "        parameters: { }\n",
    "      param_grid:\n",
    "       fit_intercept: [True, False]\n",
    "       normalize: [True, False]\n",
    "```"
   ]
  },
  {
   "cell_type": "code",
   "execution_count": 10,
   "metadata": {
    "pycharm": {
     "name": "#%%\n"
    }
   },
   "outputs": [
    {
     "name": "stdout",
     "output_type": "stream",
     "text": [
      "[Pipeline] .. (step 1 of 3) Processing Building Dataset, total=  16.7s\n",
      "[Pipeline] .......... (step 2 of 3) Processing To Dense, total=   0.0s\n",
      "[Pipeline] ....... (step 3 of 3) Processing Grid Search, total=   0.4s\n",
      "{'best_params': {'fit_intercept': False, 'normalize': True},\n",
      " 'best_score': 1.81030730291885,\n",
      " 'mean_scores': [11133007204.688368,\n",
      "                 50193377249.263794,\n",
      "                 1.81030730291885,\n",
      "                 1.81030730291885]}\n"
     ]
    }
   ],
   "source": [
    "from smp.train.__main__ import main\n",
    "\n",
    "main(file_name=\"example.yml\")"
   ]
  },
  {
   "cell_type": "markdown",
   "metadata": {
    "pycharm": {
     "name": "#%% md\n"
    }
   },
   "source": [
    "- linear model\n",
    "    - linear regression\n",
    "    - ridge\n",
    "    - lasso\n",
    "- random forest regressor\n",
    "- gradient boosting regressor\n",
    "- custom regressor\n",
    "    - agglomerative clustering\n",
    "    - knn classifier\n",
    "    - Given weak regressor -> Linear model or gradient boosting regressor\n",
    "    ```python\n",
    "\n",
    "        def fit(self, X, y=None, **fit_params):\n",
    "            self.estimator_regressors = clone(\n",
    "                [self.estimator_regressor for i in range(self.n_clusters)]\n",
    "            )\n",
    "            for i, estimator in enumerate(self.estimator_regressors):\n",
    "                estimator.random_state = i\n",
    "\n",
    "            self.custers = AgglomerativeClustering(\n",
    "                linkage=self.linkage, n_clusters=self.n_clusters\n",
    "            )\n",
    "            self.neighbors = KNeighborsClassifier(n_neighbors=self.n_neighbors, p=4)\n",
    "\n",
    "            labels = self.custers.fit_predict(X)\n",
    "            self.neighbors.fit(X, labels)\n",
    "            self.max_clusters = []\n",
    "            for i, estimator_regressor in enumerate(self.estimator_regressors):\n",
    "                self.max_clusters.append(y[labels == i].max())\n",
    "                weigths = np.ones(y.shape)\n",
    "                weigths[labels == i] = self.weight\n",
    "                estimator_regressor.fit(X, y=y, sample_weight=weigths, **fit_params)\n",
    "\n",
    "            return self\n",
    "        \n",
    "        def predict(self, data):\n",
    "            \"\"\"\n",
    "            Returns model predictions.\n",
    "            \"\"\"\n",
    "            # Add any required pre/post-processing steps here.\n",
    "\n",
    "            proba = self.neighbors.predict_proba(data)\n",
    "            preds = []\n",
    "            for estimator_regressor, _max in zip(\n",
    "                self.estimator_regressors, self.max_clusters\n",
    "            ):\n",
    "                pred = estimator_regressor.predict(data).reshape(-1, 1)\n",
    "                pred[pred > _max*1.15] = _max*1.15  # clip predictions that dont make sense\n",
    "                pred[pred < 0] = 0  # clip predictions that dont make sense\n",
    "                preds.append(pred)\n",
    "\n",
    "            preds = np.concatenate(preds, axis=1)\n",
    "            preds = np.diag(np.matmul(preds, proba.T))\n",
    "\n",
    "        return preds\n",
    "    ```\n",
    "- voting regressor\n",
    "    - random forest regressor (0.2)\n",
    "    - gradient boosting regressor (0.4)\n",
    "    - custom regressor (0.4)"
   ]
  },
  {
   "cell_type": "code",
   "execution_count": 12,
   "metadata": {
    "pycharm": {
     "is_executing": true,
     "name": "#%%\n"
    }
   },
   "outputs": [
    {
     "name": "stdout",
     "output_type": "stream",
     "text": [
      "[Pipeline] .. (step 1 of 3) Processing Building Dataset, total=   2.5s\n",
      "[Pipeline] .......... (step 2 of 3) Processing To Dense, total=   0.0s\n",
      "[Pipeline] ....... (step 3 of 3) Processing Grid Search, total= 2.6min\n",
      "{'best_params': {'weights': [0.1, 0.4, 0.4]},\n",
      " 'best_score': 1.705404600943314,\n",
      " 'mean_scores': [1.705404600943314, 1.7054545378966357]}\n"
     ]
    }
   ],
   "source": [
    "main(file_name=\"voting_regressor.yml\")"
   ]
  },
  {
   "cell_type": "markdown",
   "metadata": {
    "pycharm": {
     "name": "#%% md\n"
    }
   },
   "source": [
    "# Validation Approach - 1 minute\n",
    "\n",
    "- replicated RMSLE\n",
    "- validation pipeline\n",
    "    - grid search\n",
    "    - 5-fold CV\n",
    "\n",
    "```yaml\n",
    "pipelines:\n",
    "  wo_img: &pipe_wo_img\n",
    "    - *dataset_wo_img\n",
    "    - cls: smp.features.features.ToDense\n",
    "      parameters: {}\n",
    "    - cls: sklearn.model_selection.GridSearchCV\n",
    "      name: Grid Search\n",
    "      parameters:\n",
    "        estimator:\n",
    "          $ref: estimator\n",
    "        param_grid:\n",
    "          $ref: param_grid\n",
    "        n_jobs: -1\n",
    "        scoring: \"neg_mean_squared_error\"\n",
    "```"
   ]
  },
  {
   "cell_type": "markdown",
   "metadata": {
    "pycharm": {
     "name": "#%% md\n"
    }
   },
   "source": [
    "- linear regression\n",
    "\n",
    "    5-fold CV:\n",
    "    ```json\n",
    "    {\n",
    "        \"mean_scores\": [41354584297.37508, 788653304.1045759, 1.8034866364871642, 1.8034866364871642], \n",
    "        \"best_params\": {\"fit_intercept\": false, \"normalize\": true}, \n",
    "        \"best_score\": 1.8034866364871642\n",
    "    }\n",
    "    ```\n",
    "    Public Leaderboard Score: 1.78954\n",
    "\n",
    "\n",
    "- voting regressor\n",
    "\n",
    "    5-fold CV:\n",
    "    ```json\n",
    "    {\n",
    "        \"mean_scores\": [1.7037517220954548, 1.706535874791483, 1.7085933793339252, 1.7110924839675785], \n",
    "        \"best_params\": {\"weights\": [0.25, 0.75, 0.25]}, \n",
    "        \"best_score\": 1.7037517220954548\n",
    "    }\n",
    "    ```\n",
    "    Public Leaderboard Score: 1.69961"
   ]
  }
 ],
 "metadata": {
  "kernelspec": {
   "display_name": "Python 3",
   "language": "python",
   "name": "python3"
  },
  "language_info": {
   "codemirror_mode": {
    "name": "ipython",
    "version": 3
   },
   "file_extension": ".py",
   "mimetype": "text/x-python",
   "name": "python",
   "nbconvert_exporter": "python",
   "pygments_lexer": "ipython3",
   "version": "3.8.5"
  }
 },
 "nbformat": 4,
 "nbformat_minor": 1
}
