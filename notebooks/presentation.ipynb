{
 "cells": [
  {
   "cell_type": "markdown",
   "source": [
    "# smp\n",
    "\n",
    "- team name: aaaaaaaaaaa\n",
    "- [public leaderboard](https://www.kaggle.com/c/ift6758-a20/leaderboard): 8 (1.70612)\n",
    "- Marc-Antoine Bélanger\n",
    "- Eric Brunet\n",
    "- Jean-Philippe Gagnon-Fleury"
   ],
   "metadata": {
    "collapsed": false
   }
  },
  {
   "cell_type": "markdown",
   "source": [
    "# project\n",
    "\n",
    "https://github.com/ebrunet28/smp\n",
    "\n",
    "- 20 branches\n",
    "- 119 commits\n",
    "- 29 pull requests\n",
    "- 75 builds\n",
    "- based on [whisk](https://github.com/whisk-ml/whisk) framework\n",
    "- runs handled through command-line interface (with yaml files)"
   ],
   "metadata": {
    "collapsed": false
   }
  },
  {
   "cell_type": "markdown",
   "source": [
    "# dataset"
   ],
   "metadata": {
    "collapsed": false
   }
  },
  {
   "cell_type": "code",
   "execution_count": 10,
   "outputs": [
    {
     "name": "stdout",
     "output_type": "stream",
     "text": [
      "User Name                                       object\n",
      "Personal URL                                    object\n",
      "Profile Cover Image Status                      object\n",
      "Profile Verification Status                     object\n",
      "Profile Text Color                              object\n",
      "Profile Page Color                              object\n",
      "Profile Theme Color                             object\n",
      "Is Profile View Size Customized?                  bool\n",
      "UTC Offset                                     float64\n",
      "Location                                        object\n",
      "Location Public Visibility                      object\n",
      "User Language                                   object\n",
      "Profile Creation Timestamp                      object\n",
      "User Time Zone                                  object\n",
      "Num of Followers                                 int64\n",
      "Num of People Following                          int64\n",
      "Num of Status Updates                            int64\n",
      "Num of Direct Messages                           int64\n",
      "Profile Category                                object\n",
      "Avg Daily Profile Visit Duration in seconds    float64\n",
      "Avg Daily Profile Clicks                       float64\n",
      "Profile Image                                   object\n",
      "Num of Profile Likes                             int64\n",
      "dtype: object\n"
     ]
    }
   ],
   "source": [
    "from smp.features.features import Loader\n",
    "\n",
    "loader = Loader()\n",
    "\n",
    "print(loader.train.dtypes)"
   ],
   "metadata": {
    "collapsed": false,
    "pycharm": {
     "name": "#%%\n"
    }
   }
  },
  {
   "cell_type": "markdown",
   "source": [
    "# features\n",
    "\n",
    "TODO: describe preprocessing\n",
    "\n",
    "- boolean\n",
    "    - Personal URL\n",
    "    - Is Profile View Size Customized?\n",
    "    - Location\n",
    "- categorical\n",
    "    - Profile Cover Image Status\n",
    "    - Profile Verification Status\n",
    "    - Location Public Visibility\n",
    "    - User Language\n",
    "    - User Time Zone\n",
    "    - Profile Category\n",
    "- discrete\n",
    "    - UTC Offset\n",
    "    - Num of Followers\n",
    "    - Num of People Following\n",
    "    - Num of Status Updates\n",
    "    - Num of Direct Messages\n",
    "- elapsed time\n",
    "    - Profile Creation Timestamp\n",
    "- float\n",
    "    - Avg Daily Profile Visit Duration in seconds\n",
    "    - Avg Daily Profile Clicks\n",
    "- image\n",
    "    - Profile Image\n",
    "- rgb\n",
    "    - Profile Text Color\n",
    "    - Profile Page Color\n",
    "    - Profile Theme Color"
   ],
   "metadata": {
    "collapsed": false
   }
  },
  {
   "cell_type": "markdown",
   "source": [
    "## boolean\n",
    "\n",
    "### Personal URL"
   ],
   "metadata": {
    "collapsed": false,
    "pycharm": {
     "name": "#%% md\n"
    }
   }
  },
  {
   "cell_type": "code",
   "execution_count": 14,
   "outputs": [
    {
     "name": "stdout",
     "output_type": "stream",
     "text": [
      "[Pipeline] .......... (step 1 of 2) Processing ToVector, total=   0.0s\n",
      "[Pipeline] .. (step 2 of 2) Processing MissingIndicator, total=   0.0s\n"
     ]
    },
    {
     "data": {
      "text/plain": "array([[ True],\n       [ True],\n       [ True],\n       ...,\n       [ True],\n       [ True],\n       [False]])"
     },
     "execution_count": 14,
     "metadata": {},
     "output_type": "execute_result"
    }
   ],
   "source": [
    "from smp.features.boolean import PersonalURL\n",
    "\n",
    "PersonalURL().fit_transform(X=loader.train)"
   ],
   "metadata": {
    "collapsed": false,
    "pycharm": {
     "name": "#%%\n"
    }
   }
  },
  {
   "cell_type": "markdown",
   "source": [
    "### Is Profile View Size Customized?\n",
    "\n",
    "### Location"
   ],
   "metadata": {
    "collapsed": false,
    "pycharm": {
     "name": "#%% md\n"
    }
   }
  },
  {
   "cell_type": "markdown",
   "source": [
    "## categorical\n",
    "\n",
    "### Profile Cover Image Status\n",
    "\n",
    "### Profile Verification Status\n",
    "\n",
    "### Location Public Visibility\n",
    "\n",
    "### User Language\n",
    "\n",
    "### User Time Zone\n",
    "\n",
    "### Profile Category\n",
    "\n",
    "## discrete\n",
    "\n",
    "### UTC Offset\n",
    "\n",
    "### Num of Followers\n",
    "\n",
    "### Num of People Following\n",
    "\n",
    "### Num of Status Updates\n",
    "\n",
    "### Num of Direct Messages\n",
    "\n",
    "## elapsed time\n",
    "\n",
    "### Profile Creation Timestamp\n",
    "\n",
    "## float\n",
    "\n",
    "### Avg Daily Profile Visit Duration in seconds\n",
    "\n",
    "### Avg Daily Profile Clicks\n",
    "\n",
    "## image\n",
    "\n",
    "### Profile Image\n",
    "\n",
    "## rgb\n",
    "\n",
    "### Profile Text Color\n",
    "\n",
    "### Profile Page Color\n",
    "\n",
    "### Profile Theme Color"
   ],
   "metadata": {
    "collapsed": false,
    "pycharm": {
     "name": "#%% md\n"
    }
   }
  },
  {
   "cell_type": "markdown",
   "source": [
    "## methodology\n",
    "\n",
    "- grid search\n",
    "- models\n",
    "    - random forest\n",
    "    - linear regression\n"
   ],
   "metadata": {
    "collapsed": false
   }
  },
  {
   "cell_type": "markdown",
   "source": [
    "## model\n",
    "\n",
    "- selected random forest\n",
    "- tried linear regression\n"
   ],
   "metadata": {
    "collapsed": false
   }
  },
  {
   "cell_type": "markdown",
   "source": [
    "## next steps\n",
    "\n",
    "- inspect features codependence"
   ],
   "metadata": {
    "collapsed": false,
    "pycharm": {
     "name": "#%% md\n"
    }
   }
  }
 ],
 "metadata": {
  "kernelspec": {
   "display_name": "Python 3",
   "language": "python",
   "name": "python3"
  },
  "language_info": {
   "codemirror_mode": {
    "name": "ipython",
    "version": 2
   },
   "file_extension": ".py",
   "mimetype": "text/x-python",
   "name": "python",
   "nbconvert_exporter": "python",
   "pygments_lexer": "ipython2",
   "version": "2.7.6"
  }
 },
 "nbformat": 4,
 "nbformat_minor": 0
}