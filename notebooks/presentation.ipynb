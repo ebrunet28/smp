{
 "cells": [
  {
   "cell_type": "markdown",
   "metadata": {},
   "source": [
    "# smp\n",
    "\n",
    "- team name: aaaaaaaaaaa\n",
    "- [public leaderboard](https://www.kaggle.com/c/ift6758-a20/leaderboard): 8 (1.70612)\n",
    "- Marc-Antoine Bélanger\n",
    "- Eric Brunet\n",
    "- Jean-Philippe Gagnon-Fleury"
   ]
  },
  {
   "cell_type": "markdown",
   "metadata": {},
   "source": [
    "# project\n",
    "\n",
    "https://github.com/ebrunet28/smp\n",
    "\n",
    "- 20 branches\n",
    "- 119 commits\n",
    "- 29 pull requests\n",
    "- 75 builds\n",
    "- based on [whisk](https://github.com/whisk-ml/whisk) framework\n",
    "- runs handled through command-line interface (with yaml files)"
   ]
  },
  {
   "cell_type": "markdown",
   "metadata": {},
   "source": [
    "# dataset"
   ]
  },
  {
   "cell_type": "code",
   "execution_count": 7,
   "metadata": {
    "pycharm": {
     "name": "#%%\n"
    }
   },
   "outputs": [
    {
     "name": "stdout",
     "output_type": "stream",
     "text": [
      "<class 'pandas.core.frame.DataFrame'>\n",
      "Index: 7500 entries, AL85S14OMDPF01I9 to LLKNQ56IFCSSCOT6\n",
      "Data columns (total 23 columns):\n",
      "User Name                                      7500 non-null object\n",
      "Personal URL                                   3256 non-null object\n",
      "Profile Cover Image Status                     7410 non-null object\n",
      "Profile Verification Status                    7500 non-null object\n",
      "Profile Text Color                             7434 non-null object\n",
      "Profile Page Color                             7422 non-null object\n",
      "Profile Theme Color                            7428 non-null object\n",
      "Is Profile View Size Customized?               7500 non-null bool\n",
      "UTC Offset                                     7014 non-null float64\n",
      "Location                                       6039 non-null object\n",
      "Location Public Visibility                     7500 non-null object\n",
      "User Language                                  7500 non-null object\n",
      "Profile Creation Timestamp                     7500 non-null object\n",
      "User Time Zone                                 7014 non-null object\n",
      "Num of Followers                               7500 non-null int64\n",
      "Num of People Following                        7500 non-null int64\n",
      "Num of Status Updates                          7500 non-null int64\n",
      "Num of Direct Messages                         7500 non-null int64\n",
      "Profile Category                               7500 non-null object\n",
      "Avg Daily Profile Visit Duration in seconds    7423 non-null float64\n",
      "Avg Daily Profile Clicks                       7424 non-null float64\n",
      "Profile Image                                  7500 non-null object\n",
      "Num of Profile Likes                           7500 non-null int64\n",
      "dtypes: bool(1), float64(3), int64(5), object(14)\n",
      "memory usage: 1.3+ MB\n",
      "None\n"
     ]
    }
   ],
   "source": [
    "from smp.features.features import Loader\n",
    "\n",
    "loader = Loader()\n",
    "\n",
    "print(loader.train.info())"
   ]
  },
  {
   "cell_type": "markdown",
   "metadata": {},
   "source": [
    "# features\n",
    "\n",
    "TODO: describe preprocessing\n",
    "\n",
    "- boolean\n",
    "    - Personal URL\n",
    "    - Is Profile View Size Customized?\n",
    "    - Location\n",
    "- categorical\n",
    "    - Profile Cover Image Status\n",
    "    - Profile Verification Status\n",
    "    - Location Public Visibility\n",
    "    - User Language\n",
    "    - User Time Zone\n",
    "    - Profile Category\n",
    "- discrete\n",
    "    - UTC Offset\n",
    "    - Num of Followers\n",
    "    - Num of People Following\n",
    "    - Num of Status Updates\n",
    "    - Num of Direct Messages\n",
    "- elapsed time\n",
    "    - Profile Creation Timestamp\n",
    "- float\n",
    "    - Avg Daily Profile Visit Duration in seconds\n",
    "    - Avg Daily Profile Clicks\n",
    "- image\n",
    "    - Profile Image\n",
    "- rgb\n",
    "    - Profile Text Color\n",
    "    - Profile Page Color\n",
    "    - Profile Theme Color"
   ]
  },
  {
   "cell_type": "code",
   "execution_count": 2,
   "metadata": {
    "pycharm": {
     "name": "#%%\n"
    }
   },
   "outputs": [],
   "source": [
    "import numpy as np\n",
    "import matplotlib.pyplot as plt"
   ]
  },
  {
   "cell_type": "markdown",
   "metadata": {
    "pycharm": {
     "name": "#%% md\n"
    }
   },
   "source": [
    "## boolean\n",
    "\n",
    "### Personal URL"
   ]
  },
  {
   "cell_type": "code",
   "execution_count": 3,
   "metadata": {
    "pycharm": {
     "name": "#%%\n"
    }
   },
   "outputs": [
    {
     "name": "stdout",
     "output_type": "stream",
     "text": [
      "[Pipeline] .......... (step 1 of 2) Processing ToVector, total=   0.0s\n",
      "[Pipeline] .. (step 2 of 2) Processing MissingIndicator, total=   0.0s\n",
      "Id\n",
      "AL85S14OMDPF01I9                            NaN\n",
      "HI11QOPD7BLJTO7Q                            NaN\n",
      "JS49LP5P72RI1OQB                            NaN\n",
      "S0GDSC09MACCLBJP    https://blob/e/g9pex_vS.com\n",
      "CRSEMK4QER6LDJSA    https://blob/v/Szeo.h4/.com\n",
      "Name: Personal URL, dtype: object\n"
     ]
    },
    {
     "data": {
      "image/png": "[encoded data removed]",
      "text/plain": [
       "<Figure size 432x288 with 1 Axes>"
      ]
     },
     "metadata": {
      "needs_background": "light"
     },
     "output_type": "display_data"
    }
   ],
   "source": [
    "from smp.features.boolean import PersonalURL\n",
    "\n",
    "feature = PersonalURL()\n",
    "X = feature.fit_transform(X=loader.train)\n",
    "y = np.log(1 + loader.train[\"Num of Profile Likes\"])\n",
    "\n",
    "print(loader.train[feature.var_name].head(5))\n",
    "\n",
    "_ = plt.hist(y[X.reshape(-1)], bins=100, alpha=0.5, density=True, label=\"missing\")\n",
    "_ = plt.hist(y[~X.reshape(-1)], bins=100, alpha=0.5, density=True, label=\"not missing\")\n",
    "\n",
    "_ = plt.title(feature.var_name)\n",
    "_ = plt.xlabel(\"Num of Profile Likes\")\n",
    "_ = plt.ylabel(\"Density\")\n",
    "_ = plt.legend()"
   ]
  },
  {
   "cell_type": "markdown",
   "metadata": {
    "pycharm": {
     "name": "#%% md\n"
    }
   },
   "source": [
    "### Is Profile View Size Customized?"
   ]
  },
  {
   "cell_type": "code",
   "execution_count": 4,
   "metadata": {
    "pycharm": {
     "name": "#%%\n"
    }
   },
   "outputs": [
    {
     "name": "stdout",
     "output_type": "stream",
     "text": [
      "[Pipeline] .......... (step 1 of 1) Processing ToVector, total=   0.0s\n",
      "Id\n",
      "AL85S14OMDPF01I9    False\n",
      "HI11QOPD7BLJTO7Q    False\n",
      "JS49LP5P72RI1OQB    False\n",
      "S0GDSC09MACCLBJP    False\n",
      "CRSEMK4QER6LDJSA    False\n",
      "Name: Is Profile View Size Customized?, dtype: bool\n"
     ]
    },
    {
     "data": {
      "image/png": "[encoded data removed]",
      "text/plain": [
       "<Figure size 432x288 with 1 Axes>"
      ]
     },
     "metadata": {
      "needs_background": "light"
     },
     "output_type": "display_data"
    }
   ],
   "source": [
    "from smp.features.boolean import IsProfileViewSizeCustomized\n",
    "\n",
    "feature = IsProfileViewSizeCustomized()\n",
    "X = feature.fit_transform(X=loader.train)\n",
    "y = np.log(1 + loader.train[\"Num of Profile Likes\"])\n",
    "\n",
    "print(loader.train[feature.var_name].head(5))\n",
    "\n",
    "_ = plt.hist(y[X.reshape(-1)], bins=100, alpha=0.5, density=True, label=\"true\")\n",
    "_ = plt.hist(y[~X.reshape(-1)], bins=100, alpha=0.5, density=True, label=\"false\")\n",
    "\n",
    "_ = plt.title(feature.var_name)\n",
    "_ = plt.xlabel(\"Num of Profile Likes\")\n",
    "_ = plt.ylabel(\"Density\")\n",
    "_ = plt.legend()"
   ]
  },
  {
   "cell_type": "markdown",
   "metadata": {
    "pycharm": {
     "name": "#%% md\n"
    }
   },
   "source": [
    "### Location"
   ]
  },
  {
   "cell_type": "code",
   "execution_count": 5,
   "metadata": {
    "pycharm": {
     "name": "#%%\n"
    }
   },
   "outputs": [
    {
     "name": "stdout",
     "output_type": "stream",
     "text": [
      "[Pipeline] .......... (step 1 of 2) Processing ToVector, total=   0.0s\n",
      "[Pipeline] .. (step 2 of 2) Processing MissingIndicator, total=   0.0s\n",
      "Id\n",
      "AL85S14OMDPF01I9                             NaN\n",
      "HI11QOPD7BLJTO7Q                          mumbai\n",
      "JS49LP5P72RI1OQB    NYC + 70 Countries Worldwide\n",
      "S0GDSC09MACCLBJP                Indianapolis, In\n",
      "CRSEMK4QER6LDJSA      777 Beach Blvd. Biloxi, MS\n",
      "Name: Location, dtype: object\n"
     ]
    },
    {
     "data": {
      "image/png": "[encoded data removed]",
      "text/plain": [
       "<Figure size 432x288 with 1 Axes>"
      ]
     },
     "metadata": {
      "needs_background": "light"
     },
     "output_type": "display_data"
    }
   ],
   "source": [
    "from smp.features.boolean import Location\n",
    "\n",
    "feature = Location()\n",
    "X = feature.fit_transform(X=loader.train)\n",
    "y = np.log(1 + loader.train[\"Num of Profile Likes\"])\n",
    "\n",
    "print(loader.train[feature.var_name].head(5))\n",
    "\n",
    "_ = plt.hist(y[X.reshape(-1)], bins=100, alpha=0.5, density=True, label=\"missing\")\n",
    "_ = plt.hist(y[~X.reshape(-1)], bins=100, alpha=0.5, density=True, label=\"not missing\")\n",
    "\n",
    "_ = plt.title(feature.var_name)\n",
    "_ = plt.xlabel(\"Num of Profile Likes\")\n",
    "_ = plt.ylabel(\"Density\")\n",
    "_ = plt.legend()"
   ]
  },
  {
   "cell_type": "markdown",
   "metadata": {
    "pycharm": {
     "name": "#%% md\n"
    }
   },
   "source": [
    "## categorical\n",
    "\n",
    "### Profile Cover Image Status\n",
    "\n",
    "### Profile Verification Status\n",
    "\n",
    "### Location Public Visibility\n",
    "\n",
    "### User Language\n",
    "\n",
    "### User Time Zone\n",
    "\n",
    "### Profile Category\n",
    "\n",
    "## discrete\n",
    "\n",
    "### UTC Offset\n",
    "\n",
    "### Num of Followers\n",
    "\n",
    "### Num of People Following\n",
    "\n",
    "### Num of Status Updates\n",
    "\n",
    "### Num of Direct Messages\n",
    "\n",
    "## elapsed time\n",
    "\n",
    "### Profile Creation Timestamp\n",
    "\n",
    "## float\n",
    "\n",
    "### Avg Daily Profile Visit Duration in seconds\n",
    "\n",
    "### Avg Daily Profile Clicks\n",
    "\n",
    "## image\n",
    "\n",
    "### Profile Image\n",
    "\n",
    "## rgb\n",
    "\n",
    "### Profile Text Color\n",
    "\n",
    "### Profile Page Color\n",
    "\n",
    "### Profile Theme Color"
   ]
  },
  {
   "cell_type": "markdown",
   "metadata": {},
   "source": [
    "## methodology\n",
    "\n",
    "- grid search\n",
    "- models\n",
    "    - random forest\n",
    "    - linear regression\n"
   ]
  },
  {
   "cell_type": "markdown",
   "metadata": {},
   "source": [
    "## model\n",
    "\n",
    "- selected random forest\n",
    "- tried linear regression\n"
   ]
  },
  {
   "cell_type": "markdown",
   "metadata": {
    "pycharm": {
     "name": "#%% md\n"
    }
   },
   "source": [
    "## next steps\n",
    "\n",
    "- inspect features codependence"
   ]
  }
 ],
 "metadata": {
  "kernelspec": {
   "display_name": "Python 3",
   "language": "python",
   "name": "python3"
  },
  "language_info": {
   "codemirror_mode": {
    "name": "ipython",
    "version": 3
   },
   "file_extension": ".py",
   "mimetype": "text/x-python",
   "name": "python",
   "nbconvert_exporter": "python",
   "pygments_lexer": "ipython3",
   "version": "3.7.4"
  }
 },
 "nbformat": 4,
 "nbformat_minor": 1
}