{
 "cells": [
  {
   "cell_type": "markdown",
   "metadata": {},
   "source": [
    "# Social Media Prediction - 15 seconds\n",
    "\n",
    "- team name: aaaaaaaaaaa\n",
    "- team members\n",
    "    - Marc-Antoine Bélanger\n",
    "    - Eric Brunet\n",
    "    - Jean-Philippe Gagnon-Fleury\n",
    "- current submission\n",
    "    - score: 1.69961\n",
    "    - model: voting regressor\n",
    "        - random forest regressor\n",
    "        - gradient boosting regressor\n",
    "        - custom regressor\n"
   ]
  },
  {
   "cell_type": "markdown",
   "metadata": {},
   "source": [
    "# Project - 45 seconds\n",
    "\n",
    "https://github.com/ebrunet28/smp\n",
    "\n",
    "- 20 branches\n",
    "- 119 commits\n",
    "- 29 pull requests\n",
    "- 75 builds\n",
    "- based on [whisk](https://github.com/whisk-ml/whisk) framework\n"
   ]
  },
  {
   "cell_type": "markdown",
   "metadata": {},
   "source": [
    "# Data Cleaning - 30 seconds"
   ]
  },
  {
   "cell_type": "code",
   "execution_count": 6,
   "metadata": {
    "pycharm": {
     "name": "#%%\n"
    }
   },
   "outputs": [
    {
     "name": "stdout",
     "output_type": "stream",
     "text": [
      "<class 'pandas.core.frame.DataFrame'>\n",
      "Index: 7500 entries, AL85S14OMDPF01I9 to LLKNQ56IFCSSCOT6\n",
      "Data columns (total 23 columns):\n",
      "User Name                                      7500 non-null object\n",
      "Personal URL                                   3256 non-null object\n",
      "Profile Cover Image Status                     7410 non-null object\n",
      "Profile Verification Status                    7500 non-null object\n",
      "Profile Text Color                             7434 non-null object\n",
      "Profile Page Color                             7422 non-null object\n",
      "Profile Theme Color                            7428 non-null object\n",
      "Is Profile View Size Customized?               7500 non-null bool\n",
      "UTC Offset                                     7014 non-null float64\n",
      "Location                                       6039 non-null object\n",
      "Location Public Visibility                     7500 non-null object\n",
      "User Language                                  7500 non-null object\n",
      "Profile Creation Timestamp                     7500 non-null object\n",
      "User Time Zone                                 7014 non-null object\n",
      "Num of Followers                               7500 non-null int64\n",
      "Num of People Following                        7500 non-null int64\n",
      "Num of Status Updates                          7500 non-null int64\n",
      "Num of Direct Messages                         7500 non-null int64\n",
      "Profile Category                               7500 non-null object\n",
      "Avg Daily Profile Visit Duration in seconds    7423 non-null float64\n",
      "Avg Daily Profile Clicks                       7424 non-null float64\n",
      "Profile Image                                  7500 non-null object\n",
      "Num of Profile Likes                           7500 non-null int64\n",
      "dtypes: bool(1), float64(3), int64(5), object(14)\n",
      "memory usage: 1.3+ MB\n",
      "None\n"
     ]
    }
   ],
   "source": [
    "from smp.features.features import Loader\n",
    "\n",
    "loader = Loader()\n",
    "\n",
    "print(loader.train.info())"
   ]
  },
  {
   "cell_type": "markdown",
   "source": [
    "- Dropped\n",
    "    - User Name\n",
    "    - Location ?\n",
    "- Lower case\n",
    "- Simple imputers\n",
    "    - Most frequenct\n",
    "    - Mean\n",
    "- Outliers ?\n"
   ],
   "metadata": {
    "collapsed": false,
    "pycharm": {
     "name": "#%% md\n"
    }
   }
  },
  {
   "cell_type": "markdown",
   "metadata": {},
   "source": [
    "# Data Analysis - 30 seconds\n",
    "\n",
    "- talk here about log transforms\n",
    "- show relevant charts"
   ]
  },
  {
   "cell_type": "code",
   "execution_count": 7,
   "outputs": [
    {
     "name": "stdout",
     "output_type": "stream",
     "text": [
      "[Pipeline] .......... (step 1 of 2) Processing ToVector, total=   0.0s\n",
      "[Pipeline] .. (step 2 of 2) Processing MissingIndicator, total=   0.0s\n"
     ]
    },
    {
     "data": {
      "text/plain": "<Figure size 432x288 with 1 Axes>",
      "image/png": "[encoded data removed]"
     },
     "metadata": {
      "needs_background": "light"
     },
     "output_type": "display_data"
    }
   ],
   "source": [
    "import numpy as np\n",
    "import matplotlib.pyplot as plt\n",
    "from smp.features.boolean import PersonalURL\n",
    "\n",
    "feature = PersonalURL()\n",
    "X = feature.fit_transform(X=loader.train)\n",
    "y = np.log(1 + loader.train[\"Num of Profile Likes\"])\n",
    "\n",
    "_ = plt.hist(y[X.reshape(-1)], bins=100, alpha=0.5, density=True, label=\"missing\")\n",
    "_ = plt.hist(y[~X.reshape(-1)], bins=100, alpha=0.5, density=True, label=\"not missing\")\n",
    "\n",
    "_ = plt.title(feature.var_name)\n",
    "_ = plt.xlabel(\"Num of Profile Likes\")\n",
    "_ = plt.ylabel(\"Density\")\n",
    "_ = plt.legend()\n"
   ],
   "metadata": {
    "collapsed": false,
    "pycharm": {
     "name": "#%%\n"
    }
   }
  },
  {
   "cell_type": "markdown",
   "metadata": {},
   "source": [
    "# Feature Engineering - 1 minute 30 seconds\n",
    "\n",
    "TODO: describe preprocessing\n",
    "<br>TODO: describe major theme of encoding/processing and return types, such as bool, vectors, rgb, etc\n",
    "<br>TODO: make final count of number of features\n",
    "\n",
    "<br>\n",
    "\n",
    "- Missing indicators\n",
    "- Binary/One-hot encoders\n",
    "- Log transforms\n",
    "- Standard scalers\n",
    "- Convert timestamp to timedelta\n",
    "- PCA\n",
    "- HEX to RGB\n",
    "\n",
    "<br>\n",
    "\n",
    "- boolean\n",
    "    - Personal URL\n",
    "    - Is Profile View Size Customized?\n",
    "    - Location\n",
    "- categorical\n",
    "    - Profile Cover Image Status\n",
    "    - Profile Verification Status\n",
    "    - Location Public Visibility\n",
    "    - User Language\n",
    "    - User Time Zone\n",
    "    - Profile Category\n",
    "- discrete\n",
    "    - UTC Offset\n",
    "    - Num of Followers\n",
    "    - Num of People Following\n",
    "    - Num of Status Updates\n",
    "    - Num of Direct Messages\n",
    "- elapsed time\n",
    "    - Profile Creation Timestamp\n",
    "- float\n",
    "    - Avg Daily Profile Visit Duration in seconds\n",
    "    - Avg Daily Profile Clicks\n",
    "- image\n",
    "    - Profile Image\n",
    "- rgb\n",
    "    - Profile Text Color\n",
    "    - Profile Page Color\n",
    "    - Profile Theme Color\n"
   ]
  },
  {
   "cell_type": "markdown",
   "metadata": {},
   "source": [
    "## Model Approach - 2 minute 30 seconds\n",
    "\n",
    "- feature engineering pipeline\n",
    "\n",
    "```yaml\n",
    "datasets:\n",
    "  default: &dataset_default\n",
    "    cls: smp.features.features.Dataset\n",
    "    parameters:\n",
    "      transformer_list:\n",
    "        - *feat_PersonalUrl_default\n",
    "        - *feat_ProfileCoverImageStatus_default\n",
    "        - *feat_ProfileVerificationStatus_default\n",
    "        - *feat_IsProfileViewSizeCustomized_default\n",
    "        - *feat_ProfileTextColor_default\n",
    "        - *feat_ProfilePageColor_default\n",
    "        - *feat_ProfileThemeColor_default\n",
    "        - *feat_UtcOffset_default\n",
    "        - *feat_Location_default\n",
    "        - *feat_LocationPublicVisibility_default\n",
    "        - *feat_UserLanguage_default\n",
    "        - *feat_ProfileCreationTimestamp_default\n",
    "        - *feat_UserTimeZone_default\n",
    "        - *feat_NumOfFollowers_default\n",
    "        - *feat_NumOfPeopleFollowing_default\n",
    "        - *feat_NumOfStatusUpdates_default\n",
    "        - *feat_NumOfDirectMessages_default\n",
    "        - *feat_ProfileCategory_default\n",
    "        - *feat_AvgDailyProfileVisitDuration_default\n",
    "        - *feat_AvgDailyProfileClicks_default\n",
    "        - *feat_ProfileImage_default\n",
    "```\n",
    "\n",
    "- model selection pipeline\n",
    "\n",
    "```yaml\n",
    "trials:\n",
    "  - pipeline: *pipe_default\n",
    "    parameters:\n",
    "      estimator:\n",
    "        cls: sklearn.linear_model.LinearRegression\n",
    "        parameters: { }\n",
    "      param_grid:\n",
    "       fit_intercept: [True, False]\n",
    "       normalize: [True, False]\n",
    "```"
   ]
  },
  {
   "cell_type": "code",
   "execution_count": 8,
   "outputs": [
    {
     "name": "stdout",
     "output_type": "stream",
     "text": [
      "[Pipeline] .. (step 1 of 3) Processing Building Dataset, total=   7.3s\n",
      "[Pipeline] .......... (step 2 of 3) Processing To Dense, total=   0.0s\n",
      "[Pipeline] ....... (step 3 of 3) Processing Grid Search, total=   0.4s\n",
      "{'best_params': {'fit_intercept': False, 'normalize': True},\n",
      " 'best_score': 1.8103085523789917,\n",
      " 'mean_scores': [89302838675891.78,\n",
      "                 6312172269.545668,\n",
      "                 1.8103085523789917,\n",
      "                 1.8103085523789917]}\n"
     ]
    }
   ],
   "source": [
    "from smp.train.__main__ import main\n",
    "\n",
    "file_name = \"example.yml\"\n",
    "main(file_name=file_name)"
   ],
   "metadata": {
    "collapsed": false,
    "pycharm": {
     "name": "#%%\n"
    }
   }
  },
  {
   "cell_type": "markdown",
   "source": [
    "- linear model\n",
    "    - linear regression\n",
    "    - ridge\n",
    "    - lasso\n",
    "- random forest regressor\n",
    "- gradient boosting regressor\n",
    "- custom regressor\n",
    "    - agglomerative clustering\n",
    "    - knn classifier\n",
    "    - gradient boosting regressor\n",
    "- voting regressor\n",
    "    - random forest regressor\n",
    "    - gradient boosting regressor\n",
    "    - custom regressor\n"
   ],
   "metadata": {
    "collapsed": false,
    "pycharm": {
     "name": "#%% md\n"
    }
   }
  },
  {
   "cell_type": "markdown",
   "metadata": {
    "pycharm": {
     "name": "#%% md\n"
    }
   },
   "source": [
    "## Validation Approach - 1 minute\n",
    "\n",
    "- replicated RMSLE\n",
    "- validation pipeline\n",
    "    - grid search\n",
    "    - 5-fold CV\n",
    "\n",
    "```yaml\n",
    "pipelines:\n",
    "  default: &pipe_default\n",
    "    - *dataset_default\n",
    "    - cls: smp.features.features.ToDense\n",
    "      parameters: {}\n",
    "    - cls: sklearn.model_selection.GridSearchCV\n",
    "      name: Grid Search\n",
    "      parameters:\n",
    "        estimator:\n",
    "          $ref: estimator\n",
    "        param_grid:\n",
    "          $ref: param_grid\n",
    "        n_jobs: -1\n",
    "        scoring: \"neg_mean_squared_error\"\n",
    "```"
   ]
  },
  {
   "cell_type": "code",
   "execution_count": 10,
   "outputs": [
    {
     "name": "stdout",
     "output_type": "stream",
     "text": [
      "[Pipeline] .. (step 1 of 3) Processing Building Dataset, total=   5.3s\n",
      "[Pipeline] .......... (step 2 of 3) Processing To Dense, total=   0.0s\n",
      "[Pipeline] ....... (step 3 of 3) Processing Grid Search, total=  56.7s\n",
      "{'best_params': {'weights': [0.25, 0.25, 0.75]},\n",
      " 'best_score': 1.7076205048759703,\n",
      " 'mean_scores': [1.7076205048759703]}\n"
     ]
    }
   ],
   "source": [
    "from smp.train.__main__ import main\n",
    "\n",
    "file_name = \"voting_regressor.yml\"\n",
    "main(file_name=file_name)"
   ],
   "metadata": {
    "collapsed": false,
    "pycharm": {
     "name": "#%%\n"
    }
   }
  },
  {
   "cell_type": "markdown",
   "source": [
    "- voting regressor\n",
    "```json\n",
    "{\n",
    "    \"mean_scores\": [\n",
    "        1.7128306493934538,\n",
    "        1.7101315096599865,\n",
    "        1.711614757488679,\n",
    "        1.7107592809554562\n",
    "    ],\n",
    "    \"best_params\": {\"weights\": [0.25, 0.25, 0.75]},\n",
    "    \"best_score\": 1.7101315096599865\n",
    "}\n",
    "```\n",
    "    - scored 1.70 on public leaderboard"
   ],
   "metadata": {
    "collapsed": false,
    "pycharm": {
     "name": "#%% md\n"
    }
   }
  }
 ],
 "metadata": {
  "kernelspec": {
   "display_name": "Python 3",
   "language": "python",
   "name": "python3"
  },
  "language_info": {
   "codemirror_mode": {
    "name": "ipython",
    "version": 3
   },
   "file_extension": ".py",
   "mimetype": "text/x-python",
   "name": "python",
   "nbconvert_exporter": "python",
   "pygments_lexer": "ipython3",
   "version": "3.7.4"
  }
 },
 "nbformat": 4,
 "nbformat_minor": 1
}