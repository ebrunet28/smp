{
 "cells": [
  {
   "cell_type": "markdown",
   "metadata": {},
   "source": [
    "# Social Media Prediction - 30 seconds\n",
    "\n",
    "- team name: aaaaaaaaaaa\n",
    "- team members\n",
    "    - Marc-Antoine Bélanger\n",
    "    - Eric Brunet\n",
    "    - Jean-Philippe Gagnon-Fleury\n",
    "- current submission\n",
    "    - score: 1.69961\n",
    "    - model: voting regressor\n",
    "        - random forest regressor\n",
    "        - gradient boosting regressor\n",
    "        - custom regressor\n"
   ]
  },
  {
   "cell_type": "markdown",
   "metadata": {},
   "source": [
    "# Project - 30 seconds\n",
    "\n",
    "https://github.com/ebrunet28/smp\n",
    "\n",
    "- 3 collaborators\n",
    "- 21 branches\n",
    "- 124 commits\n",
    "- 30 pull requests\n",
    "- 82 builds\n",
    "- based on [whisk](https://github.com/whisk-ml/whisk) framework\n"
   ]
  },
  {
   "cell_type": "markdown",
   "metadata": {},
   "source": [
    "# Data Cleaning - 30 seconds"
   ]
  },
  {
   "cell_type": "code",
   "execution_count": 1,
   "metadata": {
    "pycharm": {
     "name": "#%%\n"
    }
   },
   "outputs": [
    {
     "name": "stdout",
     "output_type": "stream",
     "text": [
      "<class 'pandas.core.frame.DataFrame'>\n",
      "Index: 7500 entries, AL85S14OMDPF01I9 to LLKNQ56IFCSSCOT6\n",
      "Data columns (total 23 columns):\n",
      "User Name                                      7500 non-null object\n",
      "Personal URL                                   3256 non-null object\n",
      "Profile Cover Image Status                     7410 non-null object\n",
      "Profile Verification Status                    7500 non-null object\n",
      "Profile Text Color                             7434 non-null object\n",
      "Profile Page Color                             7422 non-null object\n",
      "Profile Theme Color                            7428 non-null object\n",
      "Is Profile View Size Customized?               7500 non-null bool\n",
      "UTC Offset                                     7014 non-null float64\n",
      "Location                                       6039 non-null object\n",
      "Location Public Visibility                     7500 non-null object\n",
      "User Language                                  7500 non-null object\n",
      "Profile Creation Timestamp                     7500 non-null object\n",
      "User Time Zone                                 7014 non-null object\n",
      "Num of Followers                               7500 non-null int64\n",
      "Num of People Following                        7500 non-null int64\n",
      "Num of Status Updates                          7500 non-null int64\n",
      "Num of Direct Messages                         7500 non-null int64\n",
      "Profile Category                               7500 non-null object\n",
      "Avg Daily Profile Visit Duration in seconds    7423 non-null float64\n",
      "Avg Daily Profile Clicks                       7424 non-null float64\n",
      "Profile Image                                  7500 non-null object\n",
      "Num of Profile Likes                           7500 non-null int64\n",
      "dtypes: bool(1), float64(3), int64(5), object(14)\n",
      "memory usage: 1.3+ MB\n",
      "None\n"
     ]
    }
   ],
   "source": [
    "from smp.features.features import Loader\n",
    "\n",
    "loader = Loader()\n",
    "\n",
    "print(loader.train.info())"
   ]
  },
  {
   "cell_type": "code",
   "execution_count": 2,
   "outputs": [
    {
     "name": "stdout",
     "output_type": "stream",
     "text": [
      "User Name                                                         Mf9vfld4Vfe\n",
      "Personal URL                                                              NaN\n",
      "Profile Cover Image Status                                                Set\n",
      "Profile Verification Status                                          Verified\n",
      "Profile Text Color                                                     db1a2c\n",
      "Profile Page Color                                                     eaf0f2\n",
      "Profile Theme Color                                                    e70409\n",
      "Is Profile View Size Customized?                                        False\n",
      "UTC Offset                                                              39600\n",
      "Location                                                                  NaN\n",
      "Location Public Visibility                                            Enabled\n",
      "User Language                                                              en\n",
      "Profile Creation Timestamp                     Thu Nov 27 05:24:59 +0000 2008\n",
      "User Time Zone                                                         Sydney\n",
      "Num of Followers                                                        95763\n",
      "Num of People Following                                                  4289\n",
      "Num of Status Updates                                                   30809\n",
      "Num of Direct Messages                                                    873\n",
      "Profile Category                                                     business\n",
      "Avg Daily Profile Visit Duration in seconds                            14.792\n",
      "Avg Daily Profile Clicks                                               1.5761\n",
      "Profile Image                                            AL85S14OMDPF01I9.png\n",
      "Num of Profile Likes                                                     2815\n",
      "Name: AL85S14OMDPF01I9, dtype: object\n"
     ]
    }
   ],
   "source": [
    "print(loader.train.iloc[0])"
   ],
   "metadata": {
    "collapsed": false,
    "pycharm": {
     "name": "#%%\n"
    }
   }
  },
  {
   "cell_type": "markdown",
   "source": [
    "- Lower case\n",
    "- Simple imputers\n",
    "    - Most frequent\n",
    "    - Mean\n",
    "- Outliers ?\n"
   ],
   "metadata": {
    "collapsed": false,
    "pycharm": {
     "name": "#%% md\n"
    }
   }
  },
  {
   "cell_type": "markdown",
   "metadata": {},
   "source": [
    "# Data Analysis - 30 seconds"
   ]
  },
  {
   "cell_type": "code",
   "execution_count": 3,
   "outputs": [],
   "source": [
    "import numpy as np\n",
    "import matplotlib.pyplot as plt"
   ],
   "metadata": {
    "collapsed": false,
    "pycharm": {
     "name": "#%%\n"
    }
   }
  },
  {
   "cell_type": "code",
   "execution_count": 4,
   "outputs": [
    {
     "data": {
      "text/plain": "<Figure size 432x288 with 1 Axes>",
      "image/png": "[encoded data removed]"
     },
     "metadata": {
      "needs_background": "light"
     },
     "output_type": "display_data"
    }
   ],
   "source": [
    "y = np.log(1 + loader.train[\"Num of Profile Likes\"])\n",
    "_ = plt.hist(y, bins=50)\n",
    "_ = plt.title(\"Num of Profile Likes Distribution\")\n",
    "_ = plt.xlabel(\"Log\")\n",
    "_ = plt.ylabel(\"Count\")"
   ],
   "metadata": {
    "collapsed": false,
    "pycharm": {
     "name": "#%%\n"
    }
   }
  },
  {
   "cell_type": "code",
   "execution_count": 5,
   "outputs": [
    {
     "name": "stdout",
     "output_type": "stream",
     "text": [
      "[Pipeline] .......... (step 1 of 2) Processing ToVector, total=   0.0s\n",
      "[Pipeline] .. (step 2 of 2) Processing MissingIndicator, total=   0.0s\n"
     ]
    },
    {
     "data": {
      "text/plain": "<Figure size 432x288 with 1 Axes>",
      "image/png": "[encoded data removed]"
     },
     "metadata": {
      "needs_background": "light"
     },
     "output_type": "display_data"
    }
   ],
   "source": [
    "from smp.features.boolean import PersonalURL\n",
    "\n",
    "feature = PersonalURL()\n",
    "X = feature.fit_transform(X=loader.train)\n",
    "y = np.log(1 + loader.train[\"Num of Profile Likes\"])\n",
    "\n",
    "_ = plt.hist(y[X.reshape(-1)], bins=100, alpha=0.5, density=True, label=\"missing\")\n",
    "_ = plt.hist(y[~X.reshape(-1)], bins=100, alpha=0.5, density=True, label=\"not missing\")\n",
    "\n",
    "_ = plt.title(feature.var_name)\n",
    "_ = plt.xlabel(\"Num of Profile Likes (Log)\")\n",
    "_ = plt.ylabel(\"Density\")\n",
    "_ = plt.legend()"
   ],
   "metadata": {
    "collapsed": false,
    "pycharm": {
     "name": "#%%\n"
    }
   }
  },
  {
   "cell_type": "code",
   "execution_count": 6,
   "outputs": [
    {
     "data": {
      "text/plain": "<Figure size 432x288 with 1 Axes>",
      "image/png": "[encoded data removed]"
     },
     "metadata": {
      "needs_background": "light"
     },
     "output_type": "display_data"
    }
   ],
   "source": [
    "from smp.features.categorical import ProfileVerificationStatus\n",
    "\n",
    "feature = ProfileVerificationStatus()\n",
    "X = loader.train[feature.var_name]  # TODO use feature variable\n",
    "\n",
    "_ = plt.hist(y[X == 'Verified'], bins=100, alpha=0.5, density=True, label=\"Verified\")\n",
    "_ = plt.hist(y[X == 'Not verified'], bins=100, alpha=0.5, density=True, label=\"Not verified\")\n",
    "_ = plt.hist(y[X == 'Pending'], bins=100, alpha=0.5, density=True, label=\"Pending\")\n",
    "\n",
    "_ = plt.title(feature.var_name)\n",
    "_ = plt.xlabel(\"Num of Profile Likes (Log)\")\n",
    "_ = plt.ylabel(\"Density\")\n",
    "_ = plt.legend()"
   ],
   "metadata": {
    "collapsed": false,
    "pycharm": {
     "name": "#%%\n"
    }
   }
  },
  {
   "cell_type": "code",
   "execution_count": 7,
   "outputs": [
    {
     "data": {
      "text/plain": "<Figure size 432x288 with 1 Axes>",
      "image/png": "[encoded data removed]"
     },
     "metadata": {
      "needs_background": "light"
     },
     "output_type": "display_data"
    }
   ],
   "source": [
    "from smp.features.discrete import NumOfStatusUpdates\n",
    "\n",
    "feature = NumOfStatusUpdates()\n",
    "X = np.log(1+ loader.train[feature.var_name].values)  # TODO use feature variable\n",
    "\n",
    "_ = plt.hist(X, bins=50,)\n",
    "_ = plt.title(feature.var_name)\n",
    "_ = plt.xlabel(\"Log\")\n",
    "_ = plt.ylabel(\"Count\")"
   ],
   "metadata": {
    "collapsed": false,
    "pycharm": {
     "name": "#%%\n"
    }
   }
  },
  {
   "cell_type": "code",
   "execution_count": 8,
   "outputs": [
    {
     "data": {
      "text/plain": "<Figure size 432x288 with 1 Axes>",
      "image/png": "[encoded data removed]"
     },
     "metadata": {
      "needs_background": "light"
     },
     "output_type": "display_data"
    }
   ],
   "source": [
    "_ = plt.scatter(X, y)\n",
    "_ = plt.title(feature.var_name)\n",
    "_ = plt.xlabel(\"Num of Status Updates (Log)\")\n",
    "_ = plt.ylabel(\"Num of Profile Likes (Log)\")"
   ],
   "metadata": {
    "collapsed": false,
    "pycharm": {
     "name": "#%%\n"
    }
   }
  },
  {
   "cell_type": "markdown",
   "metadata": {},
   "source": [
    "# Feature Engineering - 1 minute 30 seconds\n",
    "\n",
    "- 21 initial features\n",
    "    - Dropped User Name\n",
    "\n",
    "<br>\n",
    "\n",
    "- Boolean\n",
    "    - No transform\n",
    "    - Missing indicator\n",
    "- Categorical\n",
    "    - Binary encoder\n",
    "    - One-hot encoder\n",
    "- Discrete\n",
    "    - Log transform\n",
    "    - Standard scaler\n",
    "- Elapsed Time\n",
    "    - Convert timestamp to timedelta\n",
    "    - Log transform\n",
    "    - Standard scaler\n",
    "- Float\n",
    "    - Log transform\n",
    "    - Standard scaler\n",
    "- Image\n",
    "    - 32 x 32\n",
    "    - Crop and flatten\n",
    "    - PCA\n",
    "    - 10 components\n",
    "- RGB\n",
    "    - HEX to RGB\n",
    "    - 3 dimensions vector\n",
    "\n",
    "<br>\n",
    "\n",
    "| Feature                          | Boolean | Categorical | Discrete | Elapsed Time | Float   | Image   | RBG     |\n",
    "|----------------------------------|:-------:|:-----------:|:--------:|:------------:|:-------:|:-------:|:-------:|\n",
    "| Personal URL                     | X       | <i></i>     | <i></i>  | <i></i>      | <i></i> | <i></i> | <i></i> |\n",
    "| Profile Cover Image Status       | <i></i> |      X      | <i></i>  | <i></i>      | <i></i> | <i></i> | <i></i> |\n",
    "| Profile Verification Status      | <i></i> |      X      | <i></i>  | <i></i>      | <i></i> | <i></i> | <i></i> |\n",
    "| Profile Text Color               | <i></i> | <i></i>     | <i></i>  | <i></i>      | <i></i> | <i></i> | X       |\n",
    "| Profile Page Color               | <i></i> | <i></i>     | <i></i>  | <i></i>      | <i></i> | <i></i> | X       |\n",
    "| Profile Theme Color              | <i></i> | <i></i>     | <i></i>  | <i></i>      | <i></i> | <i></i> | X       |\n",
    "| Is Profile View Size Customized? | X       | <i></i>     | <i></i>  | <i></i>      | <i></i> | <i></i> | <i></i> |\n",
    "| UTC Offset                       | <i></i> | <i></i>     | X        | <i></i>      | <i></i> | <i></i> | <i></i> |\n",
    "| Location                         | X       | <i></i>     | <i></i>  | <i></i>      | <i></i> | <i></i> | <i></i> |\n",
    "| Location Public Visibility       | <i></i> |      X      | <i></i>  | <i></i>      | <i></i> | <i></i> | <i></i> |\n",
    "| User Language                    | <i></i> |      X      | <i></i>  | <i></i>      | <i></i> | <i></i> | <i></i> |\n",
    "| Profile Creation Timestamp       | <i></i> | <i></i>     | <i></i>  | X            | <i></i> | <i></i> | <i></i> |\n",
    "| User Time Zone                   | <i></i> |      X      | <i></i>  | <i></i>      | <i></i> | <i></i> | <i></i> |\n",
    "| Num of Followers                 | <i></i> | <i></i>     | X        | <i></i>      | <i></i> | <i></i> | <i></i> |\n",
    "| Num of People Following          | <i></i> | <i></i>     | X        | <i></i>      | <i></i> | <i></i> | <i></i> |\n",
    "| Num of Status Updates            | <i></i> | <i></i>     | X        | <i></i>      | <i></i> | <i></i> | <i></i> |\n",
    "| Num of Direct Messages           | <i></i> | <i></i>     | X        | <i></i>      | <i></i> | <i></i> | <i></i> |\n",
    "| Profile Category                 | <i></i> |      X      | <i></i>  | <i></i>      | <i></i> | <i></i> | <i></i> |\n",
    "| Avg Daily Profile Visit Duration | <i></i> | <i></i>     | <i></i>  | <i></i>      | X       | <i></i> | <i></i> |\n",
    "| Avg Daily Profile Clicks         | <i></i> | <i></i>     | <i></i>  | <i></i>      | X       | <i></i> | <i></i> |\n",
    "| Profile Image                    | <i></i> | <i></i>     | <i></i>  | <i></i>      | <i></i> | X       | <i></i> |\n",
    "\n",
    "<br>\n",
    "\n",
    "- XX final features?"
   ]
  },
  {
   "cell_type": "markdown",
   "metadata": {},
   "source": [
    "## Model Approach - 2 minute 30 seconds\n",
    "\n",
    "- feature engineering pipeline\n",
    "\n",
    "```yaml\n",
    "datasets:\n",
    "  default: &dataset_default\n",
    "    cls: smp.features.features.Dataset\n",
    "    parameters:\n",
    "      transformer_list:\n",
    "        - *feat_PersonalUrl_default\n",
    "        - *feat_ProfileCoverImageStatus_default\n",
    "        - *feat_ProfileVerificationStatus_default\n",
    "        - *feat_IsProfileViewSizeCustomized_default\n",
    "        - *feat_ProfileTextColor_default\n",
    "        - *feat_ProfilePageColor_default\n",
    "        - *feat_ProfileThemeColor_default\n",
    "        - *feat_UtcOffset_default\n",
    "        - *feat_Location_default\n",
    "        - *feat_LocationPublicVisibility_default\n",
    "        - *feat_UserLanguage_default\n",
    "        - *feat_ProfileCreationTimestamp_default\n",
    "        - *feat_UserTimeZone_default\n",
    "        - *feat_NumOfFollowers_default\n",
    "        - *feat_NumOfPeopleFollowing_default\n",
    "        - *feat_NumOfStatusUpdates_default\n",
    "        - *feat_NumOfDirectMessages_default\n",
    "        - *feat_ProfileCategory_default\n",
    "        - *feat_AvgDailyProfileVisitDuration_default\n",
    "        - *feat_AvgDailyProfileClicks_default\n",
    "        - *feat_ProfileImage_default\n",
    "```\n",
    "\n",
    "- model selection pipeline\n",
    "\n",
    "```yaml\n",
    "trials:\n",
    "  - pipeline: *pipe_default\n",
    "    parameters:\n",
    "      estimator:\n",
    "        cls: sklearn.linear_model.LinearRegression\n",
    "        parameters: { }\n",
    "      param_grid:\n",
    "       fit_intercept: [True, False]\n",
    "       normalize: [True, False]\n",
    "```"
   ]
  },
  {
   "cell_type": "code",
   "execution_count": 9,
   "outputs": [
    {
     "name": "stdout",
     "output_type": "stream",
     "text": [
      "[Pipeline] .. (step 1 of 3) Processing Building Dataset, total=   6.2s\n",
      "[Pipeline] .......... (step 2 of 3) Processing To Dense, total=   0.0s\n",
      "[Pipeline] ....... (step 3 of 3) Processing Grid Search, total=   0.3s\n",
      "{'best_params': {'fit_intercept': False, 'normalize': True},\n",
      " 'best_score': 1.8103085523789917,\n",
      " 'mean_scores': [89302838675891.78,\n",
      "                 6312172269.545668,\n",
      "                 1.8103085523789917,\n",
      "                 1.8103085523789917]}\n"
     ]
    }
   ],
   "source": [
    "from smp.train.__main__ import main\n",
    "\n",
    "main(file_name=\"example.yml\")"
   ],
   "metadata": {
    "collapsed": false,
    "pycharm": {
     "name": "#%%\n"
    }
   }
  },
  {
   "cell_type": "markdown",
   "source": [
    "- linear model\n",
    "    - linear regression\n",
    "    - ridge\n",
    "    - lasso\n",
    "- random forest regressor\n",
    "- gradient boosting regressor\n",
    "- custom regressor\n",
    "    - agglomerative clustering\n",
    "    - knn classifier\n",
    "    - gradient boosting regressor\n",
    "- voting regressor\n",
    "    - random forest regressor\n",
    "    - gradient boosting regressor\n",
    "    - custom regressor"
   ],
   "metadata": {
    "collapsed": false,
    "pycharm": {
     "name": "#%% md\n"
    }
   }
  },
  {
   "cell_type": "code",
   "execution_count": 10,
   "outputs": [
    {
     "name": "stdout",
     "output_type": "stream",
     "text": [
      "[Pipeline] .. (step 1 of 3) Processing Building Dataset, total=   5.3s\n",
      "[Pipeline] .......... (step 2 of 3) Processing To Dense, total=   0.0s\n",
      "[Pipeline] ....... (step 3 of 3) Processing Grid Search, total=  58.7s\n",
      "{'best_params': {'weights': [0.25, 0.25, 0.75]},\n",
      " 'best_score': 1.7076205048759703,\n",
      " 'mean_scores': [1.7076205048759703]}\n"
     ]
    }
   ],
   "source": [
    "main(file_name=\"voting_regressor.yml\")"
   ],
   "metadata": {
    "collapsed": false,
    "pycharm": {
     "name": "#%%\n"
    }
   }
  },
  {
   "cell_type": "markdown",
   "metadata": {
    "pycharm": {
     "name": "#%% md\n"
    }
   },
   "source": [
    "## Validation Approach - 1 minute\n",
    "\n",
    "- replicated RMSLE\n",
    "- validation pipeline\n",
    "    - grid search\n",
    "    - 5-fold CV\n",
    "\n",
    "```yaml\n",
    "pipelines:\n",
    "  default: &pipe_default\n",
    "    - *dataset_default\n",
    "    - cls: smp.features.features.ToDense\n",
    "      parameters: {}\n",
    "    - cls: sklearn.model_selection.GridSearchCV\n",
    "      name: Grid Search\n",
    "      parameters:\n",
    "        estimator:\n",
    "          $ref: estimator\n",
    "        param_grid:\n",
    "          $ref: param_grid\n",
    "        n_jobs: -1\n",
    "        scoring: \"neg_mean_squared_error\"\n",
    "```"
   ]
  },
  {
   "cell_type": "markdown",
   "source": [
    "- linear regression\n",
    "```json\n",
    "{\n",
    "    \"mean_scores\": [\n",
    "        89302838675891.78,\n",
    "        6312172269.545668,\n",
    "        1.8103085523789917,\n",
    "        1.8103085523789917\n",
    "],\n",
    "    \"best_params\": {\"fit_intercept\": false, \"normalize\": true},\n",
    "    \"best_score\": 1.8103085523789917\n",
    "}\n",
    "```\n",
    "\n",
    "- voting regressor\n",
    "```json\n",
    "{\n",
    "    \"mean_scores\": [\n",
    "        1.7128306493934538,\n",
    "        1.7101315096599865,\n",
    "        1.711614757488679,\n",
    "        1.7107592809554562\n",
    "    ],\n",
    "    \"best_params\": {\"weights\": [0.25, 0.25, 0.75]},\n",
    "    \"best_score\": 1.7101315096599865\n",
    "}\n",
    "```"
   ],
   "metadata": {
    "collapsed": false,
    "pycharm": {
     "name": "#%% md\n"
    }
   }
  }
 ],
 "metadata": {
  "kernelspec": {
   "display_name": "Python 3",
   "language": "python",
   "name": "python3"
  },
  "language_info": {
   "codemirror_mode": {
    "name": "ipython",
    "version": 3
   },
   "file_extension": ".py",
   "mimetype": "text/x-python",
   "name": "python",
   "nbconvert_exporter": "python",
   "pygments_lexer": "ipython3",
   "version": "3.7.4"
  }
 },
 "nbformat": 4,
 "nbformat_minor": 1
}